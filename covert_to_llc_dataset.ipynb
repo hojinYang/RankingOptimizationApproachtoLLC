{
 "nbformat": 4,
 "nbformat_minor": 2,
 "metadata": {
  "language_info": {
   "name": "python",
   "codemirror_mode": {
    "name": "ipython",
    "version": 3
   },
   "version": "3.6.9-final"
  },
  "orig_nbformat": 2,
  "file_extension": ".py",
  "mimetype": "text/x-python",
  "name": "python",
  "npconvert_exporter": "python",
  "pygments_lexer": "ipython3",
  "version": 3,
  "kernelspec": {
   "name": "python3",
   "display_name": "Python 3"
  }
 },
 "cells": [
  {
   "cell_type": "code",
   "execution_count": 34,
   "metadata": {},
   "outputs": [],
   "source": [
    "from pathlib import Path\n",
    "import pandas as pd\n",
    "from scipy.sparse import save_npz\n",
    "import pickle\n",
    "import numpy as np\n",
    "import scipy.sparse as sp"
   ]
  },
  {
   "cell_type": "code",
   "execution_count": 21,
   "metadata": {},
   "outputs": [],
   "source": [
    "def save_numpy(matrix, path, model):\n",
    "    save_npz('{0}/{1}'.format(path, model), matrix)"
   ]
  },
  {
   "cell_type": "code",
   "execution_count": 40,
   "metadata": {},
   "outputs": [],
   "source": [
    "def load_data(data_path):\n",
    "    \n",
    "    with open(Path(data_path)/'tr_data.pkl', 'rb') as f:\n",
    "        train_matrix = pickle.load(f)\n",
    "\n",
    "    with open(Path(data_path)/'te_data.pkl', 'rb') as f:\n",
    "        test_matrix = pickle.load(f)\n",
    "\n",
    "    return train_matrix, test_matrix\n",
    "\n",
    "def load_item_tag(data_path,shape=None):\n",
    "    df_tags = pd.read_csv(data_path/'tr_tags.csv')\n",
    "    rows, cols, values = df_tags.item, df_tags.tag, np.ones(len(df_tags))\n",
    "    return sp.csr_matrix((values, (rows, cols)), shape=shape, dtype='float64')\n",
    "\n",
    "def load_user_tag(data_path,shape=None):\n",
    "    df_tags = pd.read_csv(data_path/'tr_tags.csv')\n",
    "    rows, cols, values = df_tags.user, df_tags.tag, np.ones(len(df_tags))\n",
    "    return sp.csr_matrix((values, (rows, cols)),shape=shape, dtype='float64')\n"
   ]
  },
  {
   "cell_type": "code",
   "execution_count": 25,
   "metadata": {},
   "outputs": [],
   "source": [
    "datadir = Path('data')\n",
    "dataname = Path('yelp')\n",
    "fold = Path('fold0')"
   ]
  },
  {
   "cell_type": "code",
   "execution_count": 26,
   "metadata": {},
   "outputs": [],
   "source": [
    "data_path = datadir /dataname / fold\n",
    "llc_save_path = data_path / Path('llc')\n",
    "llc_save_path.mkdir(exist_ok=True)"
   ]
  },
  {
   "cell_type": "code",
   "execution_count": 17,
   "metadata": {},
   "outputs": [],
   "source": [
    "tr_data, te_data = load_data(data_path)"
   ]
  },
  {
   "cell_type": "code",
   "execution_count": 28,
   "metadata": {},
   "outputs": [],
   "source": [
    "save_numpy(tr_data,str(llc_save_path),'Rtrain' )\n",
    "save_numpy(te_data,str(llc_save_path),'Rtest' )"
   ]
  },
  {
   "cell_type": "code",
   "execution_count": 41,
   "metadata": {},
   "outputs": [],
   "source": [
    "Rtrain_keyphrase = load_user_tag(data_path,shape=(7000,245))\n",
    "Rtrain_item_keyphrase = load_item_tag(data_path)"
   ]
  },
  {
   "cell_type": "code",
   "execution_count": 42,
   "metadata": {},
   "outputs": [
    {
     "name": "stdout",
     "output_type": "stream",
     "text": "(4997, 245)\n(7000, 245)\n(7000, 4997)\n"
    }
   ],
   "source": [
    "print(Rtrain_item_keyphrase.shape)\n",
    "print(Rtrain_keyphrase.shape)\n",
    "print(tr_data.shape)"
   ]
  },
  {
   "cell_type": "code",
   "execution_count": 43,
   "metadata": {},
   "outputs": [],
   "source": [
    "save_numpy(Rtrain_keyphrase,str(llc_save_path),'Rtrain_keyphrase' )\n",
    "save_numpy(Rtrain_item_keyphrase,str(llc_save_path),'Rtrain_item_keyphrase' )"
   ]
  }
 ]
}